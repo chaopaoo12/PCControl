{
 "cells": [
  {
   "cell_type": "code",
   "execution_count": 1,
   "metadata": {
    "collapsed": true
   },
   "outputs": [],
   "source": [
    "from pywinauto.application import Application\n",
    "from pywinauto import mouse\n",
    "from pywinauto.keyboard import send_keys\n",
    "import time"
   ]
  },
  {
   "cell_type": "code",
   "execution_count": null,
   "outputs": [],
   "source": [
    "app = Application().start(\"D:\\\\new_tdx\\\\tdxw.exe\")\n",
    "edit_window = app.window(title=\"通达信金融终端V7.633\")"
   ],
   "metadata": {
    "collapsed": false,
    "pycharm": {
     "name": "#%%\n"
    }
   }
  },
  {
   "cell_type": "code",
   "execution_count": null,
   "outputs": [],
   "source": [
    "for i in edit_window.iter_children():\n",
    "    if i.element_info.name == '游客登录':\n",
    "        x = int((i.element_info.rectangle.left + i.element_info.rectangle.right ) / 2)\n",
    "        y = int((i.element_info.rectangle.top + i.element_info.rectangle.bottom ) / 2)\n",
    "        print(x,y)\n",
    "        mouse.click(button='left', coords=(x,y+30))\n",
    "        time.sleep(5)\n",
    "        send_keys('{ENTER}')\n",
    "time.sleep(30)\n",
    "app.kill()"
   ],
   "metadata": {
    "collapsed": false,
    "pycharm": {
     "name": "#%%\n"
    }
   }
  }
 ],
 "metadata": {
  "kernelspec": {
   "display_name": "Python 3",
   "language": "python",
   "name": "python3"
  },
  "language_info": {
   "codemirror_mode": {
    "name": "ipython",
    "version": 2
   },
   "file_extension": ".py",
   "mimetype": "text/x-python",
   "name": "python",
   "nbconvert_exporter": "python",
   "pygments_lexer": "ipython2",
   "version": "2.7.6"
  }
 },
 "nbformat": 4,
 "nbformat_minor": 0
}